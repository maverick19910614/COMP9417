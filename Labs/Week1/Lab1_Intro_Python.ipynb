{
 "cells": [
  {
   "cell_type": "markdown",
   "metadata": {},
   "source": [
    "# Introduction to Python\n",
    "Welcome to COMP9417!  Throughout this course, you will be introduced to a variety of machine learning algorithms.  These labs are intended to give you practical experience with setting up and running these algorithms on realistic data sets.\n",
    "\n",
    "There are a few concepts you should have some understanding of to complete this work:\n",
    "* <a href=\"https://www.tutorialspoint.com/python/python_basic_syntax.htm\">Basic Python</a>\n",
    "* <a href=\"https://onlinestatbook.com/2/regression/intro.html\">Linear Regression</a>\n",
    "\n",
    "##  Some practice for machine learning packages\n",
    "For the lab work in this course, we will be using the Python language, which you may or may not have used before. If not, it may help you to do some independent study to pick up the basics. However, this is not a Python course - the focus is on applying practical machine learning algorithms, and Python is simply a tool for us to do so.\n",
    "\n",
    "* <b>Numpy</b> is a popular Numerical Python data processing library. \n",
    "\n",
    "* <b>SciPy</b>  is an open-source software for scientific computing and covers the disciplines of mathematics, science and engineering. \n",
    "\n",
    "* <b>Pandas</b>  is a data storage and analysis library that primarily provides utilities to deal with structured records, normally stored as CSVs or tables.\n",
    "\n",
    "* <b>Scikit-Learn</b> is a Python library for high performance Machine Learning.\n",
    "\n",
    "* <b>Matplotlib</b> is a Python plotting library that allows you to make interactive plots.\n",
    "\n",
    "* <b>Seaborn</b>  is a Python data visualization library based on matplotlib, providing a high-level interface for drawing attractive and informative statistical graphics.\n",
    "\n",
    "* <b>TensorFlow</b>  is a deep learning library developed by Google."
   ]
  },
  {
   "cell_type": "markdown",
   "metadata": {},
   "source": [
    "### Import all the packages that we will learn or practice\n",
    "Prior to starting, you should check whether you have installed the following packages like numpy, scipy, pandas, scikit-learn, matplotlib and seaborn.\n",
    "\n",
    "If you are using Linux, you can use the following code in a terminal to install these packages:"
   ]
  },
  {
   "cell_type": "markdown",
   "metadata": {},
   "source": [
    "pip install numpy scipy pandas scikit-learn matplotlib seaborn"
   ]
  },
  {
   "cell_type": "markdown",
   "metadata": {},
   "source": [
    "If you are using anaconda, you can use the following code at the Anaconda prompt to install these packages:"
   ]
  },
  {
   "cell_type": "code",
   "execution_count": 5,
   "metadata": {
    "scrolled": true
   },
   "outputs": [
    {
     "ename": "SyntaxError",
     "evalue": "invalid syntax (<ipython-input-5-85b6b4a00d92>, line 1)",
     "output_type": "error",
     "traceback": [
      "\u001b[0;36m  File \u001b[0;32m\"<ipython-input-5-85b6b4a00d92>\"\u001b[0;36m, line \u001b[0;32m1\u001b[0m\n\u001b[0;31m    conda install numpy scipy pandas scikit-learn matplotlib seaborn\u001b[0m\n\u001b[0m                ^\u001b[0m\n\u001b[0;31mSyntaxError\u001b[0m\u001b[0;31m:\u001b[0m invalid syntax\n"
     ]
    }
   ],
   "source": [
    "conda install numpy scipy pandas scikit-learn matplotlib seaborn"
   ]
  },
  {
   "cell_type": "markdown",
   "metadata": {},
   "source": [
    "To run code in the Jupyter environment, you simply click in the code area and type ctrl+enter"
   ]
  },
  {
   "cell_type": "code",
   "execution_count": 2,
   "metadata": {},
   "outputs": [],
   "source": [
    "import numpy as np\n",
    "import scipy\n",
    "import pandas as pd\n",
    "import sklearn as sk\n",
    "import matplotlib.pyplot as plt\n",
    "import seaborn as sns\n",
    "\n",
    "%matplotlib inline"
   ]
  },
  {
   "cell_type": "markdown",
   "metadata": {},
   "source": [
    "## NumPy practice\n",
    "### basic"
   ]
  },
  {
   "cell_type": "code",
   "execution_count": 3,
   "metadata": {},
   "outputs": [
    {
     "name": "stdout",
     "output_type": "stream",
     "text": [
      "list object: \n",
      "\n",
      "[1, 2, 3, 4]\n",
      "\n",
      "array object: \n",
      "\n",
      "[1. 2. 3. 4.]\n",
      "\n",
      "zero matix: \n",
      "\n",
      "[[0. 0. 0.]\n",
      " [0. 0. 0.]\n",
      " [0. 0. 0.]\n",
      " [0. 0. 0.]]\n",
      "\n"
     ]
    }
   ],
   "source": [
    "list_object=[1,2,3,4]                          # Creating a list object\n",
    "array=np.array(list_object)                    # Converting the original list object into numpy array object\n",
    "array=np.array(list_object,dtype=np.float32)   # Specifying data type\n",
    "zeros=np.zeros((4,3))                          # Creating matrix with 4*3 zeros\n",
    "print(\"list object: \\n\")\n",
    "print(list_object)\n",
    "print()\n",
    "print(\"array object: \\n\")\n",
    "print(array)\n",
    "print()\n",
    "print(\"zero matix: \\n\")\n",
    "print(zeros)\n",
    "print()"
   ]
  },
  {
   "cell_type": "markdown",
   "metadata": {},
   "source": [
    "### Operators\n",
    "Arithmetic operators"
   ]
  },
  {
   "cell_type": "code",
   "execution_count": 4,
   "metadata": {},
   "outputs": [
    {
     "name": "stdout",
     "output_type": "stream",
     "text": [
      "z = x + y:  [6 9]\n",
      "z = x * y:  [ 8 18]\n",
      "z = x / y:  [2. 2.]\n"
     ]
    }
   ],
   "source": [
    "x=np.array([4,6])\n",
    "y=np.array([2,3])\n",
    "z = x + y                                # x and y are numpy array with the same size\n",
    "print(\"z = x + y: \",z)\n",
    "z = x * y\n",
    "print(\"z = x * y: \",z)\n",
    "z = x / y\n",
    "print(\"z = x / y: \",z)"
   ]
  },
  {
   "cell_type": "markdown",
   "metadata": {},
   "source": [
    "Comparison operators"
   ]
  },
  {
   "cell_type": "code",
   "execution_count": 9,
   "metadata": {},
   "outputs": [
    {
     "name": "stdout",
     "output_type": "stream",
     "text": [
      "x:  [4 6]\n",
      "y:  [2 3]\n",
      "z = x > y: [ True  True]\n",
      "z = x > 5: [False  True]\n"
     ]
    }
   ],
   "source": [
    "print(\"x: \", x)\n",
    "print(\"y: \", y)\n",
    "z = x > y\n",
    "print(\"z = x > y:\", z)\n",
    "z = x > 5\n",
    "print(\"z = x > 5:\", z)"
   ]
  },
  {
   "cell_type": "markdown",
   "metadata": {},
   "source": [
    "Unary operators"
   ]
  },
  {
   "cell_type": "code",
   "execution_count": 10,
   "metadata": {},
   "outputs": [
    {
     "name": "stdout",
     "output_type": "stream",
     "text": [
      "matrix A: \n",
      " [[0 1 2]\n",
      " [3 4 5]\n",
      " [6 7 8]]\n",
      "mean: 4.0\n",
      "col_sum [ 9 12 15]\n",
      "row_sum [ 3 12 21]\n"
     ]
    }
   ],
   "source": [
    "A = np.arange(9).reshape((3,3)) \n",
    "print(\"matrix A: \\n\",A)\n",
    "sum_a = np.mean(A)\n",
    "print(\"mean:\", sum_a)\n",
    "col_sum = A.sum(axis = 0)               # calculates sum of each column\n",
    "print(\"col_sum\", col_sum)\n",
    "row_sum = A.sum(axis = 1)               # calculates sum of each row\n",
    "print(\"row_sum\", row_sum)"
   ]
  },
  {
   "cell_type": "markdown",
   "metadata": {},
   "source": [
    "## Data Exploration Using Pandas\n",
    "loading the diabetes data set and save the data set into csv file, following by loading the csv file."
   ]
  },
  {
   "cell_type": "code",
   "execution_count": 12,
   "metadata": {},
   "outputs": [],
   "source": [
    "from sklearn import datasets\n",
    "\n",
    "# Load the diabetes dataset\n",
    "diabetes = datasets.load_diabetes()\n",
    "\n",
    "# Putting the dataset into pandas DataFrame\n",
    "data = pd.DataFrame(diabetes.data, columns=diabetes.feature_names)\n",
    "target = pd.DataFrame(diabetes.target, columns=[\"target\"])\n",
    "\n",
    "# Combining the two dataframes into one\n",
    "df = pd.concat([data,target], axis=1)\n",
    "\n",
    "# Saving the data frame into \"diabetes.csv\" file \n",
    "df.to_csv(\"diabetes.csv\", index=False) \n",
    "\n",
    "#Loading the data from csv file\n",
    "csv_df = pd.read_csv(\"diabetes.csv\")"
   ]
  },
  {
   "cell_type": "markdown",
   "metadata": {},
   "source": [
    "Analyzing DataFrames"
   ]
  },
  {
   "cell_type": "code",
   "execution_count": 13,
   "metadata": {
    "scrolled": true
   },
   "outputs": [
    {
     "data": {
      "text/html": [
       "<div>\n",
       "<style scoped>\n",
       "    .dataframe tbody tr th:only-of-type {\n",
       "        vertical-align: middle;\n",
       "    }\n",
       "\n",
       "    .dataframe tbody tr th {\n",
       "        vertical-align: top;\n",
       "    }\n",
       "\n",
       "    .dataframe thead th {\n",
       "        text-align: right;\n",
       "    }\n",
       "</style>\n",
       "<table border=\"1\" class=\"dataframe\">\n",
       "  <thead>\n",
       "    <tr style=\"text-align: right;\">\n",
       "      <th></th>\n",
       "      <th>age</th>\n",
       "      <th>sex</th>\n",
       "      <th>bmi</th>\n",
       "      <th>bp</th>\n",
       "      <th>s1</th>\n",
       "      <th>s2</th>\n",
       "      <th>s3</th>\n",
       "      <th>s4</th>\n",
       "      <th>s5</th>\n",
       "      <th>s6</th>\n",
       "      <th>target</th>\n",
       "    </tr>\n",
       "  </thead>\n",
       "  <tbody>\n",
       "    <tr>\n",
       "      <th>0</th>\n",
       "      <td>0.038076</td>\n",
       "      <td>0.050680</td>\n",
       "      <td>0.061696</td>\n",
       "      <td>0.021872</td>\n",
       "      <td>-0.044223</td>\n",
       "      <td>-0.034821</td>\n",
       "      <td>-0.043401</td>\n",
       "      <td>-0.002592</td>\n",
       "      <td>0.019908</td>\n",
       "      <td>-0.017646</td>\n",
       "      <td>151.0</td>\n",
       "    </tr>\n",
       "    <tr>\n",
       "      <th>1</th>\n",
       "      <td>-0.001882</td>\n",
       "      <td>-0.044642</td>\n",
       "      <td>-0.051474</td>\n",
       "      <td>-0.026328</td>\n",
       "      <td>-0.008449</td>\n",
       "      <td>-0.019163</td>\n",
       "      <td>0.074412</td>\n",
       "      <td>-0.039493</td>\n",
       "      <td>-0.068330</td>\n",
       "      <td>-0.092204</td>\n",
       "      <td>75.0</td>\n",
       "    </tr>\n",
       "    <tr>\n",
       "      <th>2</th>\n",
       "      <td>0.085299</td>\n",
       "      <td>0.050680</td>\n",
       "      <td>0.044451</td>\n",
       "      <td>-0.005671</td>\n",
       "      <td>-0.045599</td>\n",
       "      <td>-0.034194</td>\n",
       "      <td>-0.032356</td>\n",
       "      <td>-0.002592</td>\n",
       "      <td>0.002864</td>\n",
       "      <td>-0.025930</td>\n",
       "      <td>141.0</td>\n",
       "    </tr>\n",
       "    <tr>\n",
       "      <th>3</th>\n",
       "      <td>-0.089063</td>\n",
       "      <td>-0.044642</td>\n",
       "      <td>-0.011595</td>\n",
       "      <td>-0.036656</td>\n",
       "      <td>0.012191</td>\n",
       "      <td>0.024991</td>\n",
       "      <td>-0.036038</td>\n",
       "      <td>0.034309</td>\n",
       "      <td>0.022692</td>\n",
       "      <td>-0.009362</td>\n",
       "      <td>206.0</td>\n",
       "    </tr>\n",
       "    <tr>\n",
       "      <th>4</th>\n",
       "      <td>0.005383</td>\n",
       "      <td>-0.044642</td>\n",
       "      <td>-0.036385</td>\n",
       "      <td>0.021872</td>\n",
       "      <td>0.003935</td>\n",
       "      <td>0.015596</td>\n",
       "      <td>0.008142</td>\n",
       "      <td>-0.002592</td>\n",
       "      <td>-0.031991</td>\n",
       "      <td>-0.046641</td>\n",
       "      <td>135.0</td>\n",
       "    </tr>\n",
       "  </tbody>\n",
       "</table>\n",
       "</div>"
      ],
      "text/plain": [
       "        age       sex       bmi        bp        s1        s2        s3  \\\n",
       "0  0.038076  0.050680  0.061696  0.021872 -0.044223 -0.034821 -0.043401   \n",
       "1 -0.001882 -0.044642 -0.051474 -0.026328 -0.008449 -0.019163  0.074412   \n",
       "2  0.085299  0.050680  0.044451 -0.005671 -0.045599 -0.034194 -0.032356   \n",
       "3 -0.089063 -0.044642 -0.011595 -0.036656  0.012191  0.024991 -0.036038   \n",
       "4  0.005383 -0.044642 -0.036385  0.021872  0.003935  0.015596  0.008142   \n",
       "\n",
       "         s4        s5        s6  target  \n",
       "0 -0.002592  0.019908 -0.017646   151.0  \n",
       "1 -0.039493 -0.068330 -0.092204    75.0  \n",
       "2 -0.002592  0.002864 -0.025930   141.0  \n",
       "3  0.034309  0.022692 -0.009362   206.0  \n",
       "4 -0.002592 -0.031991 -0.046641   135.0  "
      ]
     },
     "execution_count": 13,
     "metadata": {},
     "output_type": "execute_result"
    }
   ],
   "source": [
    "# prints the first few rows of the dataframe\n",
    "csv_df.head()"
   ]
  },
  {
   "cell_type": "code",
   "execution_count": 14,
   "metadata": {},
   "outputs": [
    {
     "name": "stdout",
     "output_type": "stream",
     "text": [
      "<class 'pandas.core.frame.DataFrame'>\n",
      "RangeIndex: 442 entries, 0 to 441\n",
      "Data columns (total 11 columns):\n",
      "age       442 non-null float64\n",
      "sex       442 non-null float64\n",
      "bmi       442 non-null float64\n",
      "bp        442 non-null float64\n",
      "s1        442 non-null float64\n",
      "s2        442 non-null float64\n",
      "s3        442 non-null float64\n",
      "s4        442 non-null float64\n",
      "s5        442 non-null float64\n",
      "s6        442 non-null float64\n",
      "target    442 non-null float64\n",
      "dtypes: float64(11)\n",
      "memory usage: 38.1 KB\n"
     ]
    }
   ],
   "source": [
    "# provides a concise summary of the dataframe\n",
    "csv_df.info()"
   ]
  },
  {
   "cell_type": "code",
   "execution_count": 15,
   "metadata": {},
   "outputs": [
    {
     "data": {
      "text/html": [
       "<div>\n",
       "<style scoped>\n",
       "    .dataframe tbody tr th:only-of-type {\n",
       "        vertical-align: middle;\n",
       "    }\n",
       "\n",
       "    .dataframe tbody tr th {\n",
       "        vertical-align: top;\n",
       "    }\n",
       "\n",
       "    .dataframe thead th {\n",
       "        text-align: right;\n",
       "    }\n",
       "</style>\n",
       "<table border=\"1\" class=\"dataframe\">\n",
       "  <thead>\n",
       "    <tr style=\"text-align: right;\">\n",
       "      <th></th>\n",
       "      <th>age</th>\n",
       "      <th>sex</th>\n",
       "      <th>bmi</th>\n",
       "      <th>bp</th>\n",
       "      <th>s1</th>\n",
       "      <th>s2</th>\n",
       "      <th>s3</th>\n",
       "      <th>s4</th>\n",
       "      <th>s5</th>\n",
       "      <th>s6</th>\n",
       "      <th>target</th>\n",
       "    </tr>\n",
       "  </thead>\n",
       "  <tbody>\n",
       "    <tr>\n",
       "      <th>count</th>\n",
       "      <td>4.420000e+02</td>\n",
       "      <td>4.420000e+02</td>\n",
       "      <td>4.420000e+02</td>\n",
       "      <td>4.420000e+02</td>\n",
       "      <td>4.420000e+02</td>\n",
       "      <td>4.420000e+02</td>\n",
       "      <td>4.420000e+02</td>\n",
       "      <td>4.420000e+02</td>\n",
       "      <td>4.420000e+02</td>\n",
       "      <td>4.420000e+02</td>\n",
       "      <td>442.000000</td>\n",
       "    </tr>\n",
       "    <tr>\n",
       "      <th>mean</th>\n",
       "      <td>-3.639623e-16</td>\n",
       "      <td>1.269723e-16</td>\n",
       "      <td>-8.016463e-16</td>\n",
       "      <td>1.288562e-16</td>\n",
       "      <td>-8.992304e-17</td>\n",
       "      <td>1.296097e-16</td>\n",
       "      <td>-4.563971e-16</td>\n",
       "      <td>3.875733e-16</td>\n",
       "      <td>-3.845592e-16</td>\n",
       "      <td>-3.398488e-16</td>\n",
       "      <td>152.133484</td>\n",
       "    </tr>\n",
       "    <tr>\n",
       "      <th>std</th>\n",
       "      <td>4.761905e-02</td>\n",
       "      <td>4.761905e-02</td>\n",
       "      <td>4.761905e-02</td>\n",
       "      <td>4.761905e-02</td>\n",
       "      <td>4.761905e-02</td>\n",
       "      <td>4.761905e-02</td>\n",
       "      <td>4.761905e-02</td>\n",
       "      <td>4.761905e-02</td>\n",
       "      <td>4.761905e-02</td>\n",
       "      <td>4.761905e-02</td>\n",
       "      <td>77.093005</td>\n",
       "    </tr>\n",
       "    <tr>\n",
       "      <th>min</th>\n",
       "      <td>-1.072256e-01</td>\n",
       "      <td>-4.464164e-02</td>\n",
       "      <td>-9.027530e-02</td>\n",
       "      <td>-1.123996e-01</td>\n",
       "      <td>-1.267807e-01</td>\n",
       "      <td>-1.156131e-01</td>\n",
       "      <td>-1.023071e-01</td>\n",
       "      <td>-7.639450e-02</td>\n",
       "      <td>-1.260974e-01</td>\n",
       "      <td>-1.377672e-01</td>\n",
       "      <td>25.000000</td>\n",
       "    </tr>\n",
       "    <tr>\n",
       "      <th>25%</th>\n",
       "      <td>-3.729927e-02</td>\n",
       "      <td>-4.464164e-02</td>\n",
       "      <td>-3.422907e-02</td>\n",
       "      <td>-3.665645e-02</td>\n",
       "      <td>-3.424784e-02</td>\n",
       "      <td>-3.035840e-02</td>\n",
       "      <td>-3.511716e-02</td>\n",
       "      <td>-3.949338e-02</td>\n",
       "      <td>-3.324879e-02</td>\n",
       "      <td>-3.317903e-02</td>\n",
       "      <td>87.000000</td>\n",
       "    </tr>\n",
       "    <tr>\n",
       "      <th>50%</th>\n",
       "      <td>5.383060e-03</td>\n",
       "      <td>-4.464164e-02</td>\n",
       "      <td>-7.283766e-03</td>\n",
       "      <td>-5.670611e-03</td>\n",
       "      <td>-4.320866e-03</td>\n",
       "      <td>-3.819065e-03</td>\n",
       "      <td>-6.584468e-03</td>\n",
       "      <td>-2.592262e-03</td>\n",
       "      <td>-1.947634e-03</td>\n",
       "      <td>-1.077698e-03</td>\n",
       "      <td>140.500000</td>\n",
       "    </tr>\n",
       "    <tr>\n",
       "      <th>75%</th>\n",
       "      <td>3.807591e-02</td>\n",
       "      <td>5.068012e-02</td>\n",
       "      <td>3.124802e-02</td>\n",
       "      <td>3.564384e-02</td>\n",
       "      <td>2.835801e-02</td>\n",
       "      <td>2.984439e-02</td>\n",
       "      <td>2.931150e-02</td>\n",
       "      <td>3.430886e-02</td>\n",
       "      <td>3.243323e-02</td>\n",
       "      <td>2.791705e-02</td>\n",
       "      <td>211.500000</td>\n",
       "    </tr>\n",
       "    <tr>\n",
       "      <th>max</th>\n",
       "      <td>1.107267e-01</td>\n",
       "      <td>5.068012e-02</td>\n",
       "      <td>1.705552e-01</td>\n",
       "      <td>1.320442e-01</td>\n",
       "      <td>1.539137e-01</td>\n",
       "      <td>1.987880e-01</td>\n",
       "      <td>1.811791e-01</td>\n",
       "      <td>1.852344e-01</td>\n",
       "      <td>1.335990e-01</td>\n",
       "      <td>1.356118e-01</td>\n",
       "      <td>346.000000</td>\n",
       "    </tr>\n",
       "  </tbody>\n",
       "</table>\n",
       "</div>"
      ],
      "text/plain": [
       "                age           sex           bmi            bp            s1  \\\n",
       "count  4.420000e+02  4.420000e+02  4.420000e+02  4.420000e+02  4.420000e+02   \n",
       "mean  -3.639623e-16  1.269723e-16 -8.016463e-16  1.288562e-16 -8.992304e-17   \n",
       "std    4.761905e-02  4.761905e-02  4.761905e-02  4.761905e-02  4.761905e-02   \n",
       "min   -1.072256e-01 -4.464164e-02 -9.027530e-02 -1.123996e-01 -1.267807e-01   \n",
       "25%   -3.729927e-02 -4.464164e-02 -3.422907e-02 -3.665645e-02 -3.424784e-02   \n",
       "50%    5.383060e-03 -4.464164e-02 -7.283766e-03 -5.670611e-03 -4.320866e-03   \n",
       "75%    3.807591e-02  5.068012e-02  3.124802e-02  3.564384e-02  2.835801e-02   \n",
       "max    1.107267e-01  5.068012e-02  1.705552e-01  1.320442e-01  1.539137e-01   \n",
       "\n",
       "                 s2            s3            s4            s5            s6  \\\n",
       "count  4.420000e+02  4.420000e+02  4.420000e+02  4.420000e+02  4.420000e+02   \n",
       "mean   1.296097e-16 -4.563971e-16  3.875733e-16 -3.845592e-16 -3.398488e-16   \n",
       "std    4.761905e-02  4.761905e-02  4.761905e-02  4.761905e-02  4.761905e-02   \n",
       "min   -1.156131e-01 -1.023071e-01 -7.639450e-02 -1.260974e-01 -1.377672e-01   \n",
       "25%   -3.035840e-02 -3.511716e-02 -3.949338e-02 -3.324879e-02 -3.317903e-02   \n",
       "50%   -3.819065e-03 -6.584468e-03 -2.592262e-03 -1.947634e-03 -1.077698e-03   \n",
       "75%    2.984439e-02  2.931150e-02  3.430886e-02  3.243323e-02  2.791705e-02   \n",
       "max    1.987880e-01  1.811791e-01  1.852344e-01  1.335990e-01  1.356118e-01   \n",
       "\n",
       "           target  \n",
       "count  442.000000  \n",
       "mean   152.133484  \n",
       "std     77.093005  \n",
       "min     25.000000  \n",
       "25%     87.000000  \n",
       "50%    140.500000  \n",
       "75%    211.500000  \n",
       "max    346.000000  "
      ]
     },
     "execution_count": 15,
     "metadata": {},
     "output_type": "execute_result"
    }
   ],
   "source": [
    "# provides descriptive statistics of central tendency, dispersion and shape\n",
    "csv_df.describe()"
   ]
  },
  {
   "cell_type": "markdown",
   "metadata": {},
   "source": [
    "Views and Slicing"
   ]
  },
  {
   "cell_type": "code",
   "execution_count": 16,
   "metadata": {},
   "outputs": [
    {
     "data": {
      "text/html": [
       "<div>\n",
       "<style scoped>\n",
       "    .dataframe tbody tr th:only-of-type {\n",
       "        vertical-align: middle;\n",
       "    }\n",
       "\n",
       "    .dataframe tbody tr th {\n",
       "        vertical-align: top;\n",
       "    }\n",
       "\n",
       "    .dataframe thead th {\n",
       "        text-align: right;\n",
       "    }\n",
       "</style>\n",
       "<table border=\"1\" class=\"dataframe\">\n",
       "  <thead>\n",
       "    <tr style=\"text-align: right;\">\n",
       "      <th></th>\n",
       "      <th>age</th>\n",
       "      <th>sex</th>\n",
       "      <th>bmi</th>\n",
       "      <th>bp</th>\n",
       "      <th>s1</th>\n",
       "      <th>s2</th>\n",
       "      <th>s3</th>\n",
       "      <th>s4</th>\n",
       "      <th>s5</th>\n",
       "      <th>s6</th>\n",
       "      <th>target</th>\n",
       "      <th>fat</th>\n",
       "    </tr>\n",
       "  </thead>\n",
       "  <tbody>\n",
       "    <tr>\n",
       "      <th>0</th>\n",
       "      <td>0.038076</td>\n",
       "      <td>0.050680</td>\n",
       "      <td>0.061696</td>\n",
       "      <td>0.021872</td>\n",
       "      <td>-0.044223</td>\n",
       "      <td>-0.034821</td>\n",
       "      <td>-0.043401</td>\n",
       "      <td>-0.002592</td>\n",
       "      <td>0.019908</td>\n",
       "      <td>-0.017646</td>\n",
       "      <td>151.0</td>\n",
       "      <td>True</td>\n",
       "    </tr>\n",
       "    <tr>\n",
       "      <th>2</th>\n",
       "      <td>0.085299</td>\n",
       "      <td>0.050680</td>\n",
       "      <td>0.044451</td>\n",
       "      <td>-0.005671</td>\n",
       "      <td>-0.045599</td>\n",
       "      <td>-0.034194</td>\n",
       "      <td>-0.032356</td>\n",
       "      <td>-0.002592</td>\n",
       "      <td>0.002864</td>\n",
       "      <td>-0.025930</td>\n",
       "      <td>141.0</td>\n",
       "      <td>True</td>\n",
       "    </tr>\n",
       "    <tr>\n",
       "      <th>8</th>\n",
       "      <td>0.041708</td>\n",
       "      <td>0.050680</td>\n",
       "      <td>0.061696</td>\n",
       "      <td>-0.040099</td>\n",
       "      <td>-0.013953</td>\n",
       "      <td>0.006202</td>\n",
       "      <td>-0.028674</td>\n",
       "      <td>-0.002592</td>\n",
       "      <td>-0.014956</td>\n",
       "      <td>0.011349</td>\n",
       "      <td>110.0</td>\n",
       "      <td>True</td>\n",
       "    </tr>\n",
       "    <tr>\n",
       "      <th>9</th>\n",
       "      <td>-0.070900</td>\n",
       "      <td>-0.044642</td>\n",
       "      <td>0.039062</td>\n",
       "      <td>-0.033214</td>\n",
       "      <td>-0.012577</td>\n",
       "      <td>-0.034508</td>\n",
       "      <td>-0.024993</td>\n",
       "      <td>-0.002592</td>\n",
       "      <td>0.067736</td>\n",
       "      <td>-0.013504</td>\n",
       "      <td>310.0</td>\n",
       "      <td>True</td>\n",
       "    </tr>\n",
       "    <tr>\n",
       "      <th>11</th>\n",
       "      <td>0.027178</td>\n",
       "      <td>0.050680</td>\n",
       "      <td>0.017506</td>\n",
       "      <td>-0.033214</td>\n",
       "      <td>-0.007073</td>\n",
       "      <td>0.045972</td>\n",
       "      <td>-0.065491</td>\n",
       "      <td>0.071210</td>\n",
       "      <td>-0.096433</td>\n",
       "      <td>-0.059067</td>\n",
       "      <td>69.0</td>\n",
       "      <td>True</td>\n",
       "    </tr>\n",
       "    <tr>\n",
       "      <th>16</th>\n",
       "      <td>-0.005515</td>\n",
       "      <td>-0.044642</td>\n",
       "      <td>0.042296</td>\n",
       "      <td>0.049415</td>\n",
       "      <td>0.024574</td>\n",
       "      <td>-0.023861</td>\n",
       "      <td>0.074412</td>\n",
       "      <td>-0.039493</td>\n",
       "      <td>0.052280</td>\n",
       "      <td>0.027917</td>\n",
       "      <td>166.0</td>\n",
       "      <td>True</td>\n",
       "    </tr>\n",
       "    <tr>\n",
       "      <th>17</th>\n",
       "      <td>0.070769</td>\n",
       "      <td>0.050680</td>\n",
       "      <td>0.012117</td>\n",
       "      <td>0.056301</td>\n",
       "      <td>0.034206</td>\n",
       "      <td>0.049416</td>\n",
       "      <td>-0.039719</td>\n",
       "      <td>0.034309</td>\n",
       "      <td>0.027368</td>\n",
       "      <td>-0.001078</td>\n",
       "      <td>144.0</td>\n",
       "      <td>True</td>\n",
       "    </tr>\n",
       "    <tr>\n",
       "      <th>23</th>\n",
       "      <td>0.045341</td>\n",
       "      <td>0.050680</td>\n",
       "      <td>0.060618</td>\n",
       "      <td>0.031053</td>\n",
       "      <td>0.028702</td>\n",
       "      <td>-0.047347</td>\n",
       "      <td>-0.054446</td>\n",
       "      <td>0.071210</td>\n",
       "      <td>0.133599</td>\n",
       "      <td>0.135612</td>\n",
       "      <td>245.0</td>\n",
       "      <td>True</td>\n",
       "    </tr>\n",
       "    <tr>\n",
       "      <th>24</th>\n",
       "      <td>-0.063635</td>\n",
       "      <td>-0.044642</td>\n",
       "      <td>0.035829</td>\n",
       "      <td>-0.022885</td>\n",
       "      <td>-0.030464</td>\n",
       "      <td>-0.018850</td>\n",
       "      <td>-0.006584</td>\n",
       "      <td>-0.002592</td>\n",
       "      <td>-0.025952</td>\n",
       "      <td>-0.054925</td>\n",
       "      <td>184.0</td>\n",
       "      <td>True</td>\n",
       "    </tr>\n",
       "    <tr>\n",
       "      <th>27</th>\n",
       "      <td>-0.023677</td>\n",
       "      <td>-0.044642</td>\n",
       "      <td>0.059541</td>\n",
       "      <td>-0.040099</td>\n",
       "      <td>-0.042848</td>\n",
       "      <td>-0.043589</td>\n",
       "      <td>0.011824</td>\n",
       "      <td>-0.039493</td>\n",
       "      <td>-0.015998</td>\n",
       "      <td>0.040343</td>\n",
       "      <td>85.0</td>\n",
       "      <td>True</td>\n",
       "    </tr>\n",
       "  </tbody>\n",
       "</table>\n",
       "</div>"
      ],
      "text/plain": [
       "         age       sex       bmi        bp        s1        s2        s3  \\\n",
       "0   0.038076  0.050680  0.061696  0.021872 -0.044223 -0.034821 -0.043401   \n",
       "2   0.085299  0.050680  0.044451 -0.005671 -0.045599 -0.034194 -0.032356   \n",
       "8   0.041708  0.050680  0.061696 -0.040099 -0.013953  0.006202 -0.028674   \n",
       "9  -0.070900 -0.044642  0.039062 -0.033214 -0.012577 -0.034508 -0.024993   \n",
       "11  0.027178  0.050680  0.017506 -0.033214 -0.007073  0.045972 -0.065491   \n",
       "16 -0.005515 -0.044642  0.042296  0.049415  0.024574 -0.023861  0.074412   \n",
       "17  0.070769  0.050680  0.012117  0.056301  0.034206  0.049416 -0.039719   \n",
       "23  0.045341  0.050680  0.060618  0.031053  0.028702 -0.047347 -0.054446   \n",
       "24 -0.063635 -0.044642  0.035829 -0.022885 -0.030464 -0.018850 -0.006584   \n",
       "27 -0.023677 -0.044642  0.059541 -0.040099 -0.042848 -0.043589  0.011824   \n",
       "\n",
       "          s4        s5        s6  target   fat  \n",
       "0  -0.002592  0.019908 -0.017646   151.0  True  \n",
       "2  -0.002592  0.002864 -0.025930   141.0  True  \n",
       "8  -0.002592 -0.014956  0.011349   110.0  True  \n",
       "9  -0.002592  0.067736 -0.013504   310.0  True  \n",
       "11  0.071210 -0.096433 -0.059067    69.0  True  \n",
       "16 -0.039493  0.052280  0.027917   166.0  True  \n",
       "17  0.034309  0.027368 -0.001078   144.0  True  \n",
       "23  0.071210  0.133599  0.135612   245.0  True  \n",
       "24 -0.002592 -0.025952 -0.054925   184.0  True  \n",
       "27 -0.039493 -0.015998  0.040343    85.0  True  "
      ]
     },
     "execution_count": 16,
     "metadata": {},
     "output_type": "execute_result"
    }
   ],
   "source": [
    "bmi = csv_df[\"bmi\"]                       # get the column of bmi\n",
    "\n",
    "csv_df[\"fat\"] = csv_df[\"bmi\"] > 0         # creates a new column with True / False values is bmi > 0\n",
    "\n",
    "csv_df[csv_df.fat]                        # selecting rows of entire dataframe where bmi > 0\n",
    "\n",
    "csv_df[csv_df.fat][:10]                   # selecting first 10 rows where bmi > 0"
   ]
  },
  {
   "cell_type": "markdown",
   "metadata": {},
   "source": [
    "## Matplotlib practice"
   ]
  },
  {
   "cell_type": "code",
   "execution_count": 4,
   "metadata": {},
   "outputs": [
    {
     "data": {
      "image/png": "[encoded data removed]",
      "text/plain": [
       "<Figure size 432x288 with 1 Axes>"
      ]
     },
     "metadata": {
      "needs_background": "light"
     },
     "output_type": "display_data"
    }
   ],
   "source": [
    "import matplotlib.pyplot as plt\n",
    "import numpy as np\n",
    "\n",
    "N = 100                                              # setting number of points\n",
    "data_x = np.arange(N)                                # Generate an array with values from 0 to N\n",
    "rdm = (np.random.rand(N)-0.5)                        # rand(N) returns N random numbers between 0 and 1\n",
    "data_y1 = data_x + rdm*10                            # Linear wrt x, with noise\n",
    "plt.scatter(data_x, data_y1, color='blue')           # Scatter plot; color parameter is optional\n",
    "plt.plot(data_x,data_x, \"r-\")                        # Line plot to show 'true' function without noise in red\n",
    "plt.show()"
   ]
  },
  {
   "cell_type": "code",
   "execution_count": 8,
   "metadata": {},
   "outputs": [
    {
     "data": {
      "text/plain": [
       "array([ 0.01506631, -0.37735866,  0.46284405, -0.4205852 ,  0.4802159 ,\n",
       "        0.06727684,  0.38243452, -0.27665491, -0.24856326,  0.00451633,\n",
       "       -0.12433823, -0.45815392,  0.03562692, -0.40365496, -0.23287151,\n",
       "       -0.03117902,  0.31952673,  0.09951939,  0.06050842,  0.12621305,\n",
       "       -0.12103862, -0.28360828,  0.04546635,  0.14867701,  0.10139361,\n",
       "        0.35848086,  0.47655174,  0.47404611, -0.27534387,  0.0734827 ,\n",
       "       -0.05118087, -0.38583293, -0.25733298,  0.39103343,  0.29967242,\n",
       "        0.45475678,  0.01606866, -0.30702289, -0.433834  , -0.04434629,\n",
       "       -0.2083027 ,  0.25745158,  0.19443827, -0.48620969, -0.09506522,\n",
       "       -0.42722   ,  0.27877036, -0.4141557 ,  0.23133869, -0.22404812,\n",
       "       -0.16390364, -0.3682655 ,  0.49358544,  0.18858414,  0.22270908,\n",
       "        0.40042024, -0.1316024 , -0.10110612,  0.00763095,  0.01708265,\n",
       "        0.32566772, -0.25986278, -0.16009204, -0.30652298, -0.00730492,\n",
       "        0.20720481, -0.42352982, -0.44828708, -0.03508363, -0.12680916,\n",
       "        0.05769283, -0.19773199, -0.16575114,  0.31448616, -0.48846912,\n",
       "        0.21914624,  0.38534316, -0.10141948,  0.39575991, -0.47798095,\n",
       "        0.39809226, -0.35269188, -0.41342455,  0.13332946, -0.27569174,\n",
       "        0.41079146, -0.29193516,  0.45838251, -0.15612132, -0.46065033,\n",
       "        0.30795699,  0.22808058, -0.00303635, -0.27298767,  0.06833326,\n",
       "        0.21693689,  0.01353285,  0.24929756,  0.266507  ,  0.49817242])"
      ]
     },
     "execution_count": 8,
     "metadata": {},
     "output_type": "execute_result"
    }
   ],
   "source": [
    "rdm"
   ]
  },
  {
   "cell_type": "markdown",
   "metadata": {},
   "source": [
    "#### Reading Datasets\n",
    "In order to perform machine learning, we typically need a significant amount of data. By understanding the data, analysing patterns and training our algorithms, we can achieve meaningful results. Scikit-learn makes it easy for us to access some pre-defined 'toy' datasets to practice our understanding.\n",
    "\n",
    "In this example, we'll use the \"diabetes\" dataset, which contains records for 442 diabetes patients. The 10 features in the dataset represent each patient's age, sex, body mass index, average blood pressure, and six blood serum measurements. The response of interest is a quantitative measure of disease progression one year after baseline. We'll use this to find a regression to predict a patient's disease progression based on any of their features.\n",
    "\n",
    "Read through the code below to understand how this particular data is structured."
   ]
  },
  {
   "cell_type": "code",
   "execution_count": 20,
   "metadata": {},
   "outputs": [
    {
     "data": {
      "image/png": "[encoded data removed]",
      "text/plain": [
       "<Figure size 432x288 with 2 Axes>"
      ]
     },
     "metadata": {
      "needs_background": "light"
     },
     "output_type": "display_data"
    },
    {
     "name": "stdout",
     "output_type": "stream",
     "text": [
      "Feature bmi has the largest correlation with target feature, the correlation is 0.586450134474689\n"
     ]
    }
   ],
   "source": [
    "from sklearn import datasets, linear_model\n",
    "\n",
    "diabetes = datasets.load_diabetes()                                 # load the diabetes dataset\n",
    "data = pd.DataFrame(diabetes.data, columns=diabetes.feature_names)  # make diabetes dataframe, specify col names\n",
    "target = pd.DataFrame(diabetes.target, columns=[\"target\"])          # target col is variable we wish to predict from data\n",
    "df = pd.concat([data,target], axis=1)                               # concatenate data and target into one dataframe\n",
    "\n",
    "corr = df.corr()                                                    # Calculate the correlation between x and y.\n",
    "corr_abs=corr.abs()                                                 # get the absolute value of correlation\n",
    "sns.heatmap(corr_abs,       \n",
    "            xticklabels=corr.columns.values,\n",
    "            yticklabels=corr.columns.values)                        # create correlation heat map\n",
    "plt.show()\n",
    "\n",
    "corr_array = np.array(corr[\"target\"])[:-1]\n",
    "corr_abs_array = np.array(corr_abs[\"target\"])[:-1]\n",
    "i = np.argmax(corr_abs_array)\n",
    "feature = corr.columns[i]\n",
    "print('Feature', feature, 'has the largest correlation with target feature, the correlation is', corr_array[i])"
   ]
  },
  {
   "cell_type": "markdown",
   "metadata": {},
   "source": [
    "### Conclusion and Further Resources\n",
    "We have only just scratched the surface with these very powerful modules! Try to get familiar with the features covered here, and for those of you interested in seeing more examples, we strongly advise you to look at the following resource: https://jakevdp.github.io/PythonDataScienceHandbook/\n"
   ]
  },
  {
   "cell_type": "code",
   "execution_count": null,
   "metadata": {},
   "outputs": [],
   "source": []
  }
 ],
 "metadata": {
  "kernelspec": {
   "display_name": "Python 3",
   "language": "python",
   "name": "python3"
  },
  "language_info": {
   "codemirror_mode": {
    "name": "ipython",
    "version": 3
   },
   "file_extension": ".py",
   "mimetype": "text/x-python",
   "name": "python",
   "nbconvert_exporter": "python",
   "pygments_lexer": "ipython3",
   "version": "3.7.6"
  }
 },
 "nbformat": 4,
 "nbformat_minor": 2
}
